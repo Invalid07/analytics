{
 "cells": [
  {
   "cell_type": "code",
   "execution_count": 4,
   "id": "6313117e",
   "metadata": {},
   "outputs": [
    {
     "name": "stdout",
     "output_type": "stream",
     "text": [
      "fghjcmbfghjcmbfghjcmb\n"
     ]
    }
   ],
   "source": [
    "p=\"fghj\"\n",
    "k=\"cmb\"\n",
    "c=(p+k)*3 \n",
    "print(c)"
   ]
  },
  {
   "cell_type": "code",
   "execution_count": 1,
   "id": "a9f1a9a4",
   "metadata": {},
   "outputs": [
    {
     "name": "stdout",
     "output_type": "stream",
     "text": [
      "32\n",
      "<class 'int'>\n"
     ]
    }
   ],
   "source": [
    "w=8\n",
    "h=4\n",
    "print(w*h)\n",
    "\n",
    "print(type(w))\n"
   ]
  },
  {
   "cell_type": "code",
   "execution_count": 2,
   "id": "c06f2907",
   "metadata": {},
   "outputs": [
    {
     "name": "stdout",
     "output_type": "stream",
     "text": [
      "\n",
      "Here is a list of the Python keywords.  Enter any keyword to get more help.\n",
      "\n",
      "False               class               from                or\n",
      "None                continue            global              pass\n",
      "True                def                 if                  raise\n",
      "and                 del                 import              return\n",
      "as                  elif                in                  try\n",
      "assert              else                is                  while\n",
      "async               except              lambda              with\n",
      "await               finally             nonlocal            yield\n",
      "break               for                 not                 \n",
      "\n"
     ]
    }
   ],
   "source": [
    "help('keywords')"
   ]
  },
  {
   "cell_type": "code",
   "execution_count": 4,
   "id": "cfc3836e",
   "metadata": {},
   "outputs": [
    {
     "name": "stdout",
     "output_type": "stream",
     "text": [
      " sgfdgf\n",
      "hfjhfg\n",
      "\n"
     ]
    }
   ],
   "source": [
    "#  for multi line comment we have to use 3 (\"' '\")\n",
    "a=''' sgfdgf\n",
    "hfjhfg\n",
    "'''\n",
    "print(a)"
   ]
  },
  {
   "cell_type": "code",
   "execution_count": null,
   "id": "e55bd18e",
   "metadata": {},
   "outputs": [],
   "source": []
  },
  {
   "cell_type": "markdown",
   "id": "8abb67da",
   "metadata": {},
   "source": [
    "#   variable assignment \n",
    "\n"
   ]
  },
  {
   "cell_type": "code",
   "execution_count": 5,
   "id": "13ab3c10",
   "metadata": {},
   "outputs": [
    {
     "name": "stdout",
     "output_type": "stream",
     "text": [
      "9\n"
     ]
    }
   ],
   "source": [
    "q=9\n",
    "print(q)"
   ]
  },
  {
   "cell_type": "code",
   "execution_count": 8,
   "id": "37130def",
   "metadata": {},
   "outputs": [
    {
     "name": "stdout",
     "output_type": "stream",
     "text": [
      "76 12\n"
     ]
    }
   ],
   "source": [
    "q,k,j,w=76,7623,22,12\n",
    "print(q,w)"
   ]
  },
  {
   "cell_type": "markdown",
   "id": "bf886986",
   "metadata": {},
   "source": [
    "# assignment oprator"
   ]
  },
  {
   "cell_type": "code",
   "execution_count": null,
   "id": "c7f09dc3",
   "metadata": {},
   "outputs": [],
   "source": [
    "#  +=, -=, /=, %=,//(floor division(guotient))\n"
   ]
  },
  {
   "cell_type": "markdown",
   "id": "5103ad89",
   "metadata": {},
   "source": [
    "# arithmetic operators"
   ]
  },
  {
   "cell_type": "code",
   "execution_count": null,
   "id": "6ce85b91",
   "metadata": {},
   "outputs": [],
   "source": [
    "# +, =, -, *, %,/,//"
   ]
  },
  {
   "cell_type": "markdown",
   "id": "519c9ab0",
   "metadata": {},
   "source": [
    "# comparsion  operators"
   ]
  },
  {
   "cell_type": "code",
   "execution_count": 2,
   "id": "4030dfb5",
   "metadata": {},
   "outputs": [
    {
     "name": "stdout",
     "output_type": "stream",
     "text": [
      "False\n",
      "True\n"
     ]
    }
   ],
   "source": [
    "# >, <=, <, >=\n",
    "q=0\n",
    "w=9\n",
    "print(q>w)\n",
    "q=0\n",
    "w=9\n",
    "print(q<w)"
   ]
  },
  {
   "cell_type": "markdown",
   "id": "c875bf3e",
   "metadata": {},
   "source": [
    "# logical"
   ]
  },
  {
   "cell_type": "code",
   "execution_count": 7,
   "id": "1d7a6835",
   "metadata": {},
   "outputs": [
    {
     "name": "stdout",
     "output_type": "stream",
     "text": [
      "False\n",
      "True\n"
     ]
    },
    {
     "data": {
      "text/plain": [
       "10"
      ]
     },
     "execution_count": 7,
     "metadata": {},
     "output_type": "execute_result"
    }
   ],
   "source": [
    "#  and , or ,not\n",
    "q = True\n",
    "print(not q)\n",
    "q = False\n",
    "print(not q)\n",
    "# not operator give values in true or false\n",
    "# and opertor if we use value will return value ,it will return 2 value\n",
    "20 and 10\n",
    "# or opertor if we use value will return value ,it will return 1 value\n"
   ]
  },
  {
   "cell_type": "markdown",
   "id": "97ad9253",
   "metadata": {},
   "source": [
    "# membership opertor `"
   ]
  },
  {
   "cell_type": "code",
   "execution_count": 10,
   "id": "2d2d9aed",
   "metadata": {},
   "outputs": [
    {
     "data": {
      "text/plain": [
       "True"
      ]
     },
     "execution_count": 10,
     "metadata": {},
     "output_type": "execute_result"
    }
   ],
   "source": [
    "# in ,not in \n",
    "\n",
    "a=\"thii hjhu kbhi\"\n",
    "'thii' in a\n",
    "#  thii check in a \n",
    "# membership operator give values in true or false ,if we write half spelling than also value will true \n",
    "'hj'  in a"
   ]
  },
  {
   "cell_type": "markdown",
   "id": "2a2323c3",
   "metadata": {},
   "source": [
    "# identity operators"
   ]
  },
  {
   "cell_type": "code",
   "execution_count": 11,
   "id": "c69b299a",
   "metadata": {},
   "outputs": [
    {
     "name": "stderr",
     "output_type": "stream",
     "text": [
      "<>:6: SyntaxWarning: \"is\" with a literal. Did you mean \"==\"?\n",
      "<>:6: SyntaxWarning: \"is\" with a literal. Did you mean \"==\"?\n",
      "C:\\Users\\Vikas\\AppData\\Local\\Temp\\ipykernel_3520\\3444868672.py:6: SyntaxWarning: \"is\" with a literal. Did you mean \"==\"?\n",
      "  \" \" is a\n"
     ]
    },
    {
     "data": {
      "text/plain": [
       "False"
      ]
     },
     "execution_count": 11,
     "metadata": {},
     "output_type": "execute_result"
    }
   ],
   "source": [
    "#  is , is not \n",
    "# is =it will return if it same object\n",
    "# is not =it will return if it not  same object\n",
    "# in this we havr to write whole(full) operator \n",
    "a=\"tguug jih kjh\"\n",
    "\" \" is a"
   ]
  },
  {
   "cell_type": "code",
   "execution_count": 12,
   "id": "4c82c72a",
   "metadata": {},
   "outputs": [
    {
     "name": "stderr",
     "output_type": "stream",
     "text": [
      "<>:1: SyntaxWarning: \"is\" with a literal. Did you mean \"==\"?\n",
      "<>:1: SyntaxWarning: \"is\" with a literal. Did you mean \"==\"?\n",
      "C:\\Users\\Vikas\\AppData\\Local\\Temp\\ipykernel_3520\\1729886907.py:1: SyntaxWarning: \"is\" with a literal. Did you mean \"==\"?\n",
      "  'jih' is a\n"
     ]
    },
    {
     "data": {
      "text/plain": [
       "False"
      ]
     },
     "execution_count": 12,
     "metadata": {},
     "output_type": "execute_result"
    }
   ],
   "source": [
    "'jih' is a"
   ]
  },
  {
   "cell_type": "code",
   "execution_count": 13,
   "id": "24b46207",
   "metadata": {},
   "outputs": [
    {
     "name": "stderr",
     "output_type": "stream",
     "text": [
      "<>:1: SyntaxWarning: \"is not\" with a literal. Did you mean \"!=\"?\n",
      "<>:1: SyntaxWarning: \"is not\" with a literal. Did you mean \"!=\"?\n",
      "C:\\Users\\Vikas\\AppData\\Local\\Temp\\ipykernel_3520\\1486974417.py:1: SyntaxWarning: \"is not\" with a literal. Did you mean \"!=\"?\n",
      "  'jih' is not a\n"
     ]
    },
    {
     "data": {
      "text/plain": [
       "True"
      ]
     },
     "execution_count": 13,
     "metadata": {},
     "output_type": "execute_result"
    }
   ],
   "source": [
    "'jih' is not a"
   ]
  },
  {
   "cell_type": "code",
   "execution_count": null,
   "id": "07aad55f",
   "metadata": {},
   "outputs": [],
   "source": []
  }
 ],
 "metadata": {
  "kernelspec": {
   "display_name": "Python 3 (ipykernel)",
   "language": "python",
   "name": "python3"
  },
  "language_info": {
   "codemirror_mode": {
    "name": "ipython",
    "version": 3
   },
   "file_extension": ".py",
   "mimetype": "text/x-python",
   "name": "python",
   "nbconvert_exporter": "python",
   "pygments_lexer": "ipython3",
   "version": "3.11.0"
  }
 },
 "nbformat": 4,
 "nbformat_minor": 5
}
